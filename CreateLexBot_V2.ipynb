{
 "cells": [
  {
   "cell_type": "markdown",
   "metadata": {},
   "source": [
    "#  Create a Lex Bot V2 using AWS SDK Python"
   ]
  },
  {
   "cell_type": "markdown",
   "metadata": {},
   "source": [
    "Using AWS Lex V2 APIs, we can create a Lex bot from a list of utterances. We can generate this list of utterances \n",
    "from a file as well.\n",
    "\n",
    "Author: msb.nisha@gmail.com"
   ]
  },
  {
   "cell_type": "code",
   "execution_count": 10,
   "metadata": {},
   "outputs": [],
   "source": [
    "import boto3\n",
    "from botocore.config import Config"
   ]
  },
  {
   "cell_type": "code",
   "execution_count": 59,
   "metadata": {},
   "outputs": [],
   "source": [
    "my_config = Config(\n",
    "    region_name = 'us-east-1',\n",
    "    retries = {\n",
    "        'max_attempts': 10,\n",
    "        'mode': 'standard'\n",
    "    }\n",
    ")"
   ]
  },
  {
   "cell_type": "code",
   "execution_count": 60,
   "metadata": {},
   "outputs": [],
   "source": [
    "#Create Lex Bot\n",
    "client = boto3.client('lexv2-models', config=my_config)\n",
    "response = client.create_bot(\n",
    "    botName='NI_TestOne',\n",
    "    description='Test bot for development',\n",
    "    roleArn= 'arn:aws:iam::604907239905:role/aws-service-role/lexv2.amazonaws.com/AWSServiceRoleForLexV2Bots', # Role name: 'AWSServiceRoleForLexV2Bots',\n",
    "    dataPrivacy={\n",
    "        'childDirected': False\n",
    "    },\n",
    "    idleSessionTTLInSeconds=123,\n",
    "    botTags={\n",
    "        'segment': 'analytics'\n",
    "    },\n",
    "   testBotAliasTags={\n",
    "       'releasetype': 'nonprod'\n",
    " }\n",
    ")"
   ]
  },
  {
   "cell_type": "code",
   "execution_count": 61,
   "metadata": {},
   "outputs": [
    {
     "name": "stdout",
     "output_type": "stream",
     "text": [
      "Request status : 202\n",
      "Bot Id is      : HC7JOEGNKS\n"
     ]
    }
   ],
   "source": [
    "print(\"Request status :\", response['ResponseMetadata']['HTTPStatusCode'])\n",
    "print(\"Bot Id is      :\", response['botId'])\n",
    "bot_id = response['botId']"
   ]
  },
  {
   "cell_type": "code",
   "execution_count": 62,
   "metadata": {},
   "outputs": [
    {
     "data": {
      "text/plain": [
       "{'ResponseMetadata': {'RequestId': 'ec644a02-0c09-4043-929e-725da6708447',\n",
       "  'HTTPStatusCode': 200,\n",
       "  'HTTPHeaders': {'date': 'Sat, 04 Sep 2021 12:07:34 GMT',\n",
       "   'content-type': 'application/x-amz-json-1.1',\n",
       "   'content-length': '360',\n",
       "   'connection': 'keep-alive',\n",
       "   'x-amzn-requestid': 'ec644a02-0c09-4043-929e-725da6708447',\n",
       "   'x-amz-apigw-id': 'FIwtBGDCoAMFQ6A=',\n",
       "   'x-amzn-trace-id': 'Root=1-61336186-54dbbc23514624576999d727'},\n",
       "  'RetryAttempts': 0},\n",
       " 'botId': 'HC7JOEGNKS',\n",
       " 'botName': 'NI_TestOne',\n",
       " 'description': 'Test bot for development',\n",
       " 'roleArn': 'arn:aws:iam::604907239905:role/aws-service-role/lexv2.amazonaws.com/AWSServiceRoleForLexV2Bots',\n",
       " 'dataPrivacy': {'childDirected': False},\n",
       " 'idleSessionTTLInSeconds': 123,\n",
       " 'botStatus': 'Available',\n",
       " 'creationDateTime': datetime.datetime(2021, 9, 4, 17, 37, 12, 307000, tzinfo=tzlocal()),\n",
       " 'lastUpdatedDateTime': datetime.datetime(2021, 9, 4, 17, 37, 12, 307000, tzinfo=tzlocal())}"
      ]
     },
     "execution_count": 62,
     "metadata": {},
     "output_type": "execute_result"
    }
   ],
   "source": [
    "#Viewing Bot properties using bot_id\n",
    "client.describe_bot(\n",
    "    botId=bot_id\n",
    ")\n"
   ]
  },
  {
   "cell_type": "code",
   "execution_count": 63,
   "metadata": {},
   "outputs": [
    {
     "name": "stdout",
     "output_type": "stream",
     "text": [
      "version name : DRAFT\n"
     ]
    }
   ],
   "source": [
    "response = client.list_bot_versions(\n",
    "    botId=bot_id,\n",
    "    sortBy={\n",
    "        'attribute': 'BotVersion',\n",
    "        'order': 'Ascending'\n",
    "    },\n",
    "    maxResults=123\n",
    "    #nextToken='string'\n",
    ")\n",
    "version_name = response['botVersionSummaries'][0]['botVersion']\n",
    "print(\"version name :\", version_name)"
   ]
  },
  {
   "cell_type": "markdown",
   "metadata": {},
   "source": [
    "You must add a locale to a bot before you can add intents and slot types to the bot."
   ]
  },
  {
   "cell_type": "code",
   "execution_count": 65,
   "metadata": {},
   "outputs": [
    {
     "data": {
      "text/plain": [
       "{'ResponseMetadata': {'RequestId': '603e9efd-cc11-4ed4-93b5-badcd7dcb7d3',\n",
       "  'HTTPStatusCode': 202,\n",
       "  'HTTPHeaders': {'date': 'Sat, 04 Sep 2021 12:08:49 GMT',\n",
       "   'content-type': 'application/x-amz-json-1.1',\n",
       "   'content-length': '238',\n",
       "   'connection': 'keep-alive',\n",
       "   'x-amzn-requestid': '603e9efd-cc11-4ed4-93b5-badcd7dcb7d3',\n",
       "   'x-amz-apigw-id': 'FIw4vFv1IAMFffA=',\n",
       "   'x-amzn-trace-id': 'Root=1-613361d1-7784cf264e7ab7bf644ba00b'},\n",
       "  'RetryAttempts': 0},\n",
       " 'botId': 'HC7JOEGNKS',\n",
       " 'botVersion': 'DRAFT',\n",
       " 'localeName': 'English (US)',\n",
       " 'localeId': 'en_US',\n",
       " 'description': 'Bot locale',\n",
       " 'nluIntentConfidenceThreshold': 0.5,\n",
       " 'botLocaleStatus': 'Creating',\n",
       " 'creationDateTime': datetime.datetime(2021, 9, 4, 17, 38, 49, 446000, tzinfo=tzlocal())}"
      ]
     },
     "execution_count": 65,
     "metadata": {},
     "output_type": "execute_result"
    }
   ],
   "source": [
    "response = client.create_bot_locale(\n",
    "    botId=bot_id,\n",
    "    botVersion=version_name, #The version of the bot to create the locale for. This can only be the draft version of the bot.\n",
    "    localeId='en_US',\n",
    "    description='Bot locale',\n",
    "    nluIntentConfidenceThreshold=0.5,\n",
    "    #voiceSettings={\n",
    "    #    'voiceId': 'string'\n",
    "    #}\n",
    ")\n",
    "response"
   ]
  },
  {
   "cell_type": "code",
   "execution_count": 66,
   "metadata": {},
   "outputs": [],
   "source": [
    "#Create Intent\n",
    "def create_intent(client, bot_id, version, intent_name, utterances):\n",
    "    \n",
    "    response = client.create_intent(\n",
    "    intentName=intent_name,\n",
    "    description= intent_name,\n",
    "    sampleUtterances= utterances,\n",
    "\n",
    "    dialogCodeHook={\n",
    "        'enabled': False\n",
    "    },\n",
    "    fulfillmentCodeHook={\n",
    "        'enabled': False\n",
    "    },\n",
    "         \n",
    "    botId=bot_id,\n",
    "    botVersion=version,\n",
    "    localeId='en_US'\n",
    "    \n",
    "    )\n",
    "    return (response)"
   ]
  },
  {
   "cell_type": "markdown",
   "metadata": {},
   "source": [
    "Adding Intents to the bot, by calling create_intent function"
   ]
  },
  {
   "cell_type": "code",
   "execution_count": 67,
   "metadata": {},
   "outputs": [],
   "source": [
    "\n",
    "intents_org = ['myintentone', 'myintenttwo', 'myintentthree']\n",
    "\n",
    "for intentname in intents_org:\n",
    "    sampleUtterances = [ {\n",
    "        \"utterance\":'First Utterance for ' + intentname\n",
    "        }\n",
    "        \n",
    "       ]\n",
    "    resp = create_intent(client, bot_id, version_name, intentname, sampleUtterances )\n",
    "    if resp ['ResponseMetadata']['HTTPStatusCode'] != 200:\n",
    "        print(\"Intent Creation failed!!!\\n\", resp)\n",
    "        break"
   ]
  },
  {
   "cell_type": "code",
   "execution_count": 70,
   "metadata": {},
   "outputs": [
    {
     "data": {
      "text/plain": [
       "[{'intentId': 'FALLBCKINT',\n",
       "  'intentName': 'FallbackIntent',\n",
       "  'description': 'Default intent when no other intent matches',\n",
       "  'parentIntentSignature': 'AMAZON.FallbackIntent',\n",
       "  'lastUpdatedDateTime': datetime.datetime(2021, 9, 4, 17, 38, 49, 849000, tzinfo=tzlocal())},\n",
       " {'intentId': 'MXTCT6XS4V',\n",
       "  'intentName': 'myintentthree',\n",
       "  'description': 'myintentthree',\n",
       "  'lastUpdatedDateTime': datetime.datetime(2021, 9, 4, 17, 39, 28, 977000, tzinfo=tzlocal())},\n",
       " {'intentId': 'XTHDR1ZCYX',\n",
       "  'intentName': 'myintentone',\n",
       "  'description': 'myintentone',\n",
       "  'lastUpdatedDateTime': datetime.datetime(2021, 9, 4, 17, 39, 23, 908000, tzinfo=tzlocal())},\n",
       " {'intentId': 'Y49PYMLVNL',\n",
       "  'intentName': 'myintenttwo',\n",
       "  'description': 'myintenttwo',\n",
       "  'lastUpdatedDateTime': datetime.datetime(2021, 9, 4, 17, 39, 26, 401000, tzinfo=tzlocal())}]"
      ]
     },
     "execution_count": 70,
     "metadata": {},
     "output_type": "execute_result"
    }
   ],
   "source": [
    "#List Intents of a Bot\n",
    "response = client.list_intents(\n",
    "    botId=bot_id,\n",
    "    botVersion=version_name,\n",
    "    localeId='en_US',\n",
    "    \n",
    "    maxResults=123\n",
    ")\n",
    "response['intentSummaries']"
   ]
  },
  {
   "cell_type": "markdown",
   "metadata": {},
   "source": [
    "Deleting the Bot"
   ]
  },
  {
   "cell_type": "code",
   "execution_count": 55,
   "metadata": {},
   "outputs": [
    {
     "data": {
      "text/plain": [
       "{'ResponseMetadata': {'RequestId': 'f632910a-c217-480a-87d7-e168c9f66d9c',\n",
       "  'HTTPStatusCode': 202,\n",
       "  'HTTPHeaders': {'date': 'Sat, 04 Sep 2021 11:54:13 GMT',\n",
       "   'content-type': 'application/x-amz-json-1.1',\n",
       "   'content-length': '45',\n",
       "   'connection': 'keep-alive',\n",
       "   'x-amzn-requestid': 'f632910a-c217-480a-87d7-e168c9f66d9c',\n",
       "   'x-amz-apigw-id': 'FIuv2EPJIAMF7Uw=',\n",
       "   'x-amzn-trace-id': 'Root=1-61335e65-0f6659615bfc2f05546f2ef4'},\n",
       "  'RetryAttempts': 0},\n",
       " 'botId': 'GJNITA86DJ',\n",
       " 'botStatus': 'Deleting'}"
      ]
     },
     "execution_count": 55,
     "metadata": {},
     "output_type": "execute_result"
    }
   ],
   "source": [
    "response = client.delete_bot(\n",
    "    botId='GJNITA86DJ',\n",
    "    skipResourceInUseCheck=True\n",
    ")\n",
    "response"
   ]
  },
  {
   "cell_type": "code",
   "execution_count": null,
   "metadata": {},
   "outputs": [],
   "source": []
  }
 ],
 "metadata": {
  "kernelspec": {
   "display_name": "Python 3",
   "language": "python",
   "name": "python3"
  },
  "language_info": {
   "codemirror_mode": {
    "name": "ipython",
    "version": 3
   },
   "file_extension": ".py",
   "mimetype": "text/x-python",
   "name": "python",
   "nbconvert_exporter": "python",
   "pygments_lexer": "ipython3",
   "version": "3.8.5"
  }
 },
 "nbformat": 4,
 "nbformat_minor": 4
}
