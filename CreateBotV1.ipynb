{
 "cells": [
  {
   "cell_type": "markdown",
   "metadata": {},
   "source": [
    "# Create Bot V1 using AWS SDK Python"
   ]
  },
  {
   "cell_type": "markdown",
   "metadata": {},
   "source": [
    "Using AWS Lex V1 APIs, we can create a initial Lex bot from a utterances, intent file -sampleutterances.csv\n",
    "\n",
    "We will use a template file easily available from AWS website - LexIntent_Template.json\n",
    "\n",
    "We would get a output file that can also be manually imported- LexbotImport.zip\n",
    "\n",
    "Author: msb.nisha@gmail.com"
   ]
  },
  {
   "cell_type": "code",
   "execution_count": 1,
   "metadata": {},
   "outputs": [],
   "source": [
    "import pandas as pd\n",
    "import json\n",
    "import zipfile\n",
    "import boto3\n",
    "from botocore.config import Config"
   ]
  },
  {
   "cell_type": "code",
   "execution_count": 2,
   "metadata": {},
   "outputs": [],
   "source": [
    "#Define Bot Name\n",
    "bot_name = 'mylexbot'"
   ]
  },
  {
   "cell_type": "code",
   "execution_count": 3,
   "metadata": {},
   "outputs": [],
   "source": [
    "#Setting up config settings for AWS\n",
    "my_config = Config(\n",
    "    region_name = 'us-east-1',\n",
    "    retries = {\n",
    "        'max_attempts': 20,\n",
    "        'mode': 'standard'\n",
    "    }\n",
    ")"
   ]
  },
  {
   "cell_type": "code",
   "execution_count": 4,
   "metadata": {},
   "outputs": [],
   "source": [
    "#Read the sample utterances files\n",
    "dataset = pd.read_csv(\"sampleutterances.csv\")"
   ]
  },
  {
   "cell_type": "code",
   "execution_count": 5,
   "metadata": {},
   "outputs": [
    {
     "data": {
      "text/html": [
       "<div>\n",
       "<style scoped>\n",
       "    .dataframe tbody tr th:only-of-type {\n",
       "        vertical-align: middle;\n",
       "    }\n",
       "\n",
       "    .dataframe tbody tr th {\n",
       "        vertical-align: top;\n",
       "    }\n",
       "\n",
       "    .dataframe thead th {\n",
       "        text-align: right;\n",
       "    }\n",
       "</style>\n",
       "<table border=\"1\" class=\"dataframe\">\n",
       "  <thead>\n",
       "    <tr style=\"text-align: right;\">\n",
       "      <th></th>\n",
       "      <th>intent</th>\n",
       "      <th>utterances</th>\n",
       "    </tr>\n",
       "  </thead>\n",
       "  <tbody>\n",
       "    <tr>\n",
       "      <th>0</th>\n",
       "      <td>orderfood</td>\n",
       "      <td>I need 2 buckets of fried chicken</td>\n",
       "    </tr>\n",
       "    <tr>\n",
       "      <th>1</th>\n",
       "      <td>orderfood</td>\n",
       "      <td>Can i have cup of coffee to go</td>\n",
       "    </tr>\n",
       "    <tr>\n",
       "      <th>2</th>\n",
       "      <td>orderfood</td>\n",
       "      <td>Coffee please</td>\n",
       "    </tr>\n",
       "    <tr>\n",
       "      <th>3</th>\n",
       "      <td>orderfood</td>\n",
       "      <td>I would like 2 cucumber sandwiches</td>\n",
       "    </tr>\n",
       "    <tr>\n",
       "      <th>4</th>\n",
       "      <td>requestcheck</td>\n",
       "      <td>Can I have the check please</td>\n",
       "    </tr>\n",
       "  </tbody>\n",
       "</table>\n",
       "</div>"
      ],
      "text/plain": [
       "         intent                          utterances\n",
       "0     orderfood   I need 2 buckets of fried chicken\n",
       "1     orderfood      Can i have cup of coffee to go\n",
       "2     orderfood                       Coffee please\n",
       "3     orderfood  I would like 2 cucumber sandwiches\n",
       "4  requestcheck         Can I have the check please"
      ]
     },
     "execution_count": 5,
     "metadata": {},
     "output_type": "execute_result"
    }
   ],
   "source": [
    "dataset.head()"
   ]
  },
  {
   "cell_type": "code",
   "execution_count": 6,
   "metadata": {},
   "outputs": [
    {
     "name": "stdout",
     "output_type": "stream",
     "text": [
      "Intents are : ['orderfood' 'requestcheck' 'cancelorder']\n"
     ]
    }
   ],
   "source": [
    "#Intents in the sampleset\n",
    "intents_org = dataset['intent'].unique()\n",
    "print(\"Intents are :\", intents_org)"
   ]
  },
  {
   "cell_type": "code",
   "execution_count": 7,
   "metadata": {},
   "outputs": [],
   "source": [
    "#Reading the Intent Template file\n",
    "with open(\"LexIntent_Template.json\", 'r+') as fh1:\n",
    "    data = json.load(fh1)\n",
    "    data_int = data['resource']\n",
    "fh1.close()"
   ]
  },
  {
   "cell_type": "code",
   "execution_count": 8,
   "metadata": {},
   "outputs": [],
   "source": [
    "#Creating a Lex bot Template file\n",
    "outputfile = 'MyLexBot_Import.json'\n",
    "\n",
    "with open(\"LexBot_Template.json\", 'r+') as fh2:\n",
    "    data = json.load(fh2)\n",
    "    data['resource']['name'] = bot_name \n",
    "    intent_defs = []\n",
    "    \n",
    "    for intentname in intents_org:\n",
    "        data_int['name'] = intentname       \n",
    "        data_int['sampleUtterances'] = dataset[dataset['intent']== intentname]['utterances'].values.tolist()\n",
    "        intent_defs.append(data_int.copy())\n",
    "    data['resource']['intents'] = intent_defs\n",
    "fh2.close()\n",
    "\n",
    "with open (outputfile, 'w+') as fh3:\n",
    "    json.dump(data, fh3)\n",
    "fh3.close()"
   ]
  },
  {
   "cell_type": "code",
   "execution_count": 9,
   "metadata": {},
   "outputs": [],
   "source": [
    "#Zip the Json file\n",
    "zipfile.ZipFile('LexbotImport.zip', mode='w').write(outputfile)"
   ]
  },
  {
   "cell_type": "code",
   "execution_count": 12,
   "metadata": {},
   "outputs": [],
   "source": [
    "#Calling Import function to build lex bot using the Json file\n",
    "client = boto3.client('lex-models', config=my_config)\n",
    "\n",
    "filename = \"LexbotImport.zip\"\n",
    "with open(filename, 'rb') as binary_file:\n",
    "    binary_file_data = binary_file.read()\n",
    "\n",
    "response = client.start_import(\n",
    "    payload=binary_file_data ,\n",
    "    resourceType='BOT' ,\n",
    "    mergeStrategy='OVERWRITE_LATEST'    \n",
    ")"
   ]
  },
  {
   "cell_type": "code",
   "execution_count": null,
   "metadata": {},
   "outputs": [],
   "source": []
  },
  {
   "cell_type": "code",
   "execution_count": null,
   "metadata": {},
   "outputs": [],
   "source": []
  }
 ],
 "metadata": {
  "kernelspec": {
   "display_name": "Python 3",
   "language": "python",
   "name": "python3"
  },
  "language_info": {
   "codemirror_mode": {
    "name": "ipython",
    "version": 3
   },
   "file_extension": ".py",
   "mimetype": "text/x-python",
   "name": "python",
   "nbconvert_exporter": "python",
   "pygments_lexer": "ipython3",
   "version": "3.8.5"
  }
 },
 "nbformat": 4,
 "nbformat_minor": 4
}
